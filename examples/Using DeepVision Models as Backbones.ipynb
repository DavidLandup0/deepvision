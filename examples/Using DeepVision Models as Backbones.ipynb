{
 "cells": [
  {
   "cell_type": "code",
   "execution_count": 1,
   "id": "24dfcad9",
   "metadata": {},
   "outputs": [],
   "source": [
    "import deepvision"
   ]
  },
  {
   "cell_type": "markdown",
   "id": "1b673b8a",
   "metadata": {},
   "source": [
    "# TensorFlow"
   ]
  },
  {
   "cell_type": "code",
   "execution_count": 2,
   "id": "0fbea583",
   "metadata": {},
   "outputs": [],
   "source": [
    "import tensorflow as tf"
   ]
  },
  {
   "cell_type": "code",
   "execution_count": 3,
   "id": "eb929dee",
   "metadata": {},
   "outputs": [
    {
     "name": "stdout",
     "output_type": "stream",
     "text": [
      "(10,)\n"
     ]
    }
   ],
   "source": [
    "model = deepvision.models.MiTB0(classes=10, \n",
    "                                include_top=True, \n",
    "                                input_shape=(224, 224, 3), \n",
    "                                backend='tensorflow')\n",
    "\n",
    "outs = model(tf.random.uniform([1, 224, 224, 3]))\n",
    "for out in outs:\n",
    "    print(out.shape)"
   ]
  },
  {
   "cell_type": "code",
   "execution_count": 4,
   "id": "0309f469",
   "metadata": {},
   "outputs": [
    {
     "name": "stdout",
     "output_type": "stream",
     "text": [
      "(1, 56, 56, 32)\n",
      "(1, 28, 28, 64)\n",
      "(1, 14, 14, 160)\n",
      "(1, 7, 7, 256)\n"
     ]
    }
   ],
   "source": [
    "model = deepvision.models.MiTB0(include_top=False, \n",
    "                                input_shape=(224, 224, 3), \n",
    "                                backend='tensorflow', \n",
    "                                as_backbone=True)\n",
    "\n",
    "outs = model(tf.random.uniform([1, 224, 224, 3]))\n",
    "for out in outs:\n",
    "    print(out.shape)"
   ]
  },
  {
   "cell_type": "code",
   "execution_count": 5,
   "id": "d5e98a2e",
   "metadata": {},
   "outputs": [
    {
     "name": "stdout",
     "output_type": "stream",
     "text": [
      "(10,)\n"
     ]
    }
   ],
   "source": [
    "model = deepvision.models.EfficientNetV2B0(classes=10, \n",
    "                                           include_top=True, \n",
    "                                           input_shape=(224, 224, 3), \n",
    "                                           backend='tensorflow')\n",
    "\n",
    "outs = model(tf.random.uniform([1, 224, 224, 3]))\n",
    "for out in outs:\n",
    "    print(out.shape)"
   ]
  },
  {
   "cell_type": "code",
   "execution_count": 6,
   "id": "b8f0da78",
   "metadata": {
    "scrolled": true
   },
   "outputs": [
    {
     "name": "stdout",
     "output_type": "stream",
     "text": [
      "(1, 112, 112, 16)\n",
      "(1, 56, 56, 32)\n",
      "(1, 56, 56, 32)\n",
      "(1, 28, 28, 48)\n",
      "(1, 28, 28, 48)\n",
      "(1, 14, 14, 96)\n",
      "(1, 14, 14, 96)\n",
      "(1, 14, 14, 96)\n",
      "(1, 14, 14, 112)\n",
      "(1, 14, 14, 112)\n",
      "(1, 14, 14, 112)\n",
      "(1, 14, 14, 112)\n",
      "(1, 14, 14, 112)\n",
      "(1, 7, 7, 192)\n",
      "(1, 7, 7, 192)\n",
      "(1, 7, 7, 192)\n",
      "(1, 7, 7, 192)\n",
      "(1, 7, 7, 192)\n",
      "(1, 7, 7, 192)\n",
      "(1, 7, 7, 192)\n",
      "(1, 7, 7, 192)\n",
      "(1, 7, 7, 1280)\n"
     ]
    }
   ],
   "source": [
    "model = deepvision.models.EfficientNetV2B0(include_top=False, \n",
    "                                           input_shape=(224, 224, 3), \n",
    "                                           backend='tensorflow', \n",
    "                                           as_backbone=True)\n",
    "\n",
    "outs = model(tf.random.uniform([1, 224, 224, 3]))\n",
    "for out in outs:\n",
    "    print(out.shape)"
   ]
  },
  {
   "cell_type": "code",
   "execution_count": 7,
   "id": "fd91e2e9",
   "metadata": {},
   "outputs": [
    {
     "name": "stdout",
     "output_type": "stream",
     "text": [
      "(10,)\n"
     ]
    }
   ],
   "source": [
    "model = deepvision.models.ResNet50V2(classes=10, \n",
    "                                     include_top=True, \n",
    "                                     input_shape=(224, 224, 3), \n",
    "                                     backend='tensorflow')\n",
    "\n",
    "outs = model(tf.random.uniform([1, 224, 224, 3]))\n",
    "for out in outs:\n",
    "    print(out.shape)"
   ]
  },
  {
   "cell_type": "code",
   "execution_count": 8,
   "id": "e3942683",
   "metadata": {},
   "outputs": [
    {
     "name": "stdout",
     "output_type": "stream",
     "text": [
      "(1, 56, 56, 256)\n",
      "(1, 28, 28, 512)\n",
      "(1, 14, 14, 1024)\n",
      "(1, 7, 7, 2048)\n",
      "(1, 7, 7, 2048)\n"
     ]
    }
   ],
   "source": [
    "model = deepvision.models.ResNet50V2(include_top=False, \n",
    "                                     input_shape=(224, 224, 3), \n",
    "                                     backend='tensorflow', \n",
    "                                     as_backbone=True)\n",
    "\n",
    "outs = model(tf.random.uniform([1, 224, 224, 3]))\n",
    "for out in outs:\n",
    "    print(out.shape)"
   ]
  },
  {
   "cell_type": "code",
   "execution_count": 9,
   "id": "1f0ed1bc",
   "metadata": {},
   "outputs": [
    {
     "name": "stdout",
     "output_type": "stream",
     "text": [
      "WARNING:tensorflow:AutoGraph could not transform <bound method __PatchingAndEmbeddingTF.call of <deepvision.layers.patching_and_embedding.__PatchingAndEmbeddingTF object at 0x0000028D60F398D0>> and will run it as-is.\n",
      "Cause: mangled names are not yet supported\n",
      "To silence this warning, decorate the function with @tf.autograph.experimental.do_not_convert\n",
      "WARNING: AutoGraph could not transform <bound method __PatchingAndEmbeddingTF.call of <deepvision.layers.patching_and_embedding.__PatchingAndEmbeddingTF object at 0x0000028D60F398D0>> and will run it as-is.\n",
      "Cause: mangled names are not yet supported\n",
      "To silence this warning, decorate the function with @tf.autograph.experimental.do_not_convert\n",
      "(10,)\n"
     ]
    }
   ],
   "source": [
    "model = deepvision.models.ViTTiny16(classes=10, \n",
    "                                    include_top=True, \n",
    "                                    input_shape=(224, 224, 3), \n",
    "                                    backend='tensorflow')\n",
    "\n",
    "outs = model(tf.random.uniform([1, 224, 224, 3]))\n",
    "for out in outs:\n",
    "    print(out.shape)"
   ]
  },
  {
   "cell_type": "code",
   "execution_count": 10,
   "id": "c736afab",
   "metadata": {},
   "outputs": [
    {
     "name": "stdout",
     "output_type": "stream",
     "text": [
      "(1, 197, 192)\n",
      "(1, 197, 192)\n",
      "(1, 197, 192)\n",
      "(1, 197, 192)\n",
      "(1, 197, 192)\n",
      "(1, 197, 192)\n",
      "(1, 197, 192)\n",
      "(1, 197, 192)\n",
      "(1, 197, 192)\n",
      "(1, 197, 192)\n",
      "(1, 197, 192)\n",
      "(1, 197, 192)\n"
     ]
    }
   ],
   "source": [
    "model = deepvision.models.ViTTiny16(include_top=False, \n",
    "                                    input_shape=(224, 224, 3), \n",
    "                                    backend='tensorflow', \n",
    "                                    as_backbone=True)\n",
    "\n",
    "outs = model(tf.random.uniform([1, 224, 224, 3]))\n",
    "for out in outs:\n",
    "    print(out.shape)"
   ]
  },
  {
   "cell_type": "markdown",
   "id": "b999afaa",
   "metadata": {},
   "source": [
    "# PyTorch"
   ]
  },
  {
   "cell_type": "code",
   "execution_count": 11,
   "id": "90b5183f",
   "metadata": {},
   "outputs": [],
   "source": [
    "import torch"
   ]
  },
  {
   "cell_type": "code",
   "execution_count": 12,
   "id": "190b8093",
   "metadata": {},
   "outputs": [
    {
     "name": "stdout",
     "output_type": "stream",
     "text": [
      "torch.Size([10])\n"
     ]
    }
   ],
   "source": [
    "model = deepvision.models.MiTB0(classes=10, \n",
    "                                include_top=True, \n",
    "                                input_shape=(3, 224, 224), \n",
    "                                backend='pytorch')\n",
    "\n",
    "outs = model(torch.rand(1, 3, 224, 224))\n",
    "for out in outs:\n",
    "    print(out.shape)"
   ]
  },
  {
   "cell_type": "code",
   "execution_count": 13,
   "id": "5ed58ba5",
   "metadata": {},
   "outputs": [
    {
     "name": "stdout",
     "output_type": "stream",
     "text": [
      "torch.Size([1, 32, 56, 56])\n",
      "torch.Size([1, 64, 28, 28])\n",
      "torch.Size([1, 160, 14, 14])\n",
      "torch.Size([1, 256, 7, 7])\n"
     ]
    }
   ],
   "source": [
    "model = deepvision.models.MiTB0(include_top=False, \n",
    "                                input_shape=(3, 224, 224), \n",
    "                                backend='pytorch', \n",
    "                                as_backbone=True)\n",
    "\n",
    "outs = model(torch.rand(1, 3, 224, 224))\n",
    "for out in outs:\n",
    "    print(out.shape)"
   ]
  },
  {
   "cell_type": "code",
   "execution_count": 14,
   "id": "c06e85b9",
   "metadata": {},
   "outputs": [
    {
     "name": "stdout",
     "output_type": "stream",
     "text": [
      "torch.Size([10])\n"
     ]
    }
   ],
   "source": [
    "model = deepvision.models.EfficientNetV2B0(classes=10, \n",
    "                                           include_top=True, \n",
    "                                           input_shape=(3, 224, 224), \n",
    "                                           backend='pytorch')\n",
    "\n",
    "outs = model(torch.rand(1, 3, 224, 224))\n",
    "for out in outs:\n",
    "    print(out.shape)"
   ]
  },
  {
   "cell_type": "code",
   "execution_count": 15,
   "id": "73ec6ba8",
   "metadata": {},
   "outputs": [
    {
     "name": "stdout",
     "output_type": "stream",
     "text": [
      "torch.Size([1, 16, 112, 112])\n",
      "torch.Size([1, 32, 56, 56])\n",
      "torch.Size([1, 32, 56, 56])\n",
      "torch.Size([1, 48, 28, 28])\n",
      "torch.Size([1, 48, 28, 28])\n",
      "torch.Size([1, 96, 14, 14])\n",
      "torch.Size([1, 96, 14, 14])\n",
      "torch.Size([1, 96, 14, 14])\n",
      "torch.Size([1, 112, 14, 14])\n",
      "torch.Size([1, 112, 14, 14])\n",
      "torch.Size([1, 112, 14, 14])\n",
      "torch.Size([1, 112, 14, 14])\n",
      "torch.Size([1, 112, 14, 14])\n",
      "torch.Size([1, 192, 7, 7])\n",
      "torch.Size([1, 192, 7, 7])\n",
      "torch.Size([1, 192, 7, 7])\n",
      "torch.Size([1, 192, 7, 7])\n",
      "torch.Size([1, 192, 7, 7])\n",
      "torch.Size([1, 192, 7, 7])\n",
      "torch.Size([1, 192, 7, 7])\n",
      "torch.Size([1, 192, 7, 7])\n",
      "torch.Size([1, 1280, 7, 7])\n"
     ]
    }
   ],
   "source": [
    "model = deepvision.models.EfficientNetV2B0(include_top=False, \n",
    "                                           input_shape=(3, 224, 224), \n",
    "                                           backend='pytorch', \n",
    "                                           as_backbone=True)\n",
    "\n",
    "outs = model(torch.rand(1, 3, 224, 224))\n",
    "for out in outs:\n",
    "    print(out.shape)"
   ]
  },
  {
   "cell_type": "code",
   "execution_count": 16,
   "id": "6531c323",
   "metadata": {},
   "outputs": [
    {
     "name": "stdout",
     "output_type": "stream",
     "text": [
      "torch.Size([10])\n"
     ]
    }
   ],
   "source": [
    "model = deepvision.models.ResNet50V2(classes=10, \n",
    "                                     include_top=True, \n",
    "                                     input_shape=(3, 224, 224), \n",
    "                                     backend='pytorch')\n",
    "\n",
    "outs = model(torch.rand(1, 3, 224, 224))\n",
    "for out in outs:\n",
    "    print(out.shape)"
   ]
  },
  {
   "cell_type": "code",
   "execution_count": 17,
   "id": "e2bf5a81",
   "metadata": {},
   "outputs": [
    {
     "name": "stdout",
     "output_type": "stream",
     "text": [
      "torch.Size([1, 256, 56, 56])\n",
      "torch.Size([1, 512, 28, 28])\n",
      "torch.Size([1, 1024, 14, 14])\n",
      "torch.Size([1, 2048, 7, 7])\n"
     ]
    }
   ],
   "source": [
    "model = deepvision.models.ResNet50V2(include_top=False, \n",
    "                                     input_shape=(3, 224, 224), \n",
    "                                     backend='pytorch', \n",
    "                                     as_backbone=True)\n",
    "\n",
    "outs = model(torch.rand(1, 3, 224, 224))\n",
    "for out in outs:\n",
    "    print(out.shape)"
   ]
  },
  {
   "cell_type": "code",
   "execution_count": 18,
   "id": "b401b83f",
   "metadata": {},
   "outputs": [
    {
     "name": "stdout",
     "output_type": "stream",
     "text": [
      "torch.Size([10])\n"
     ]
    }
   ],
   "source": [
    "model = deepvision.models.ViTTiny16(classes=10, \n",
    "                                    include_top=True, \n",
    "                                    input_shape=(3, 224, 224), \n",
    "                                    backend='pytorch')\n",
    "\n",
    "outs = model(torch.rand(1, 3, 224, 224))\n",
    "for out in outs:\n",
    "    print(out.shape)"
   ]
  },
  {
   "cell_type": "code",
   "execution_count": 19,
   "id": "50d075e3",
   "metadata": {},
   "outputs": [
    {
     "name": "stdout",
     "output_type": "stream",
     "text": [
      "torch.Size([1, 197, 192])\n",
      "torch.Size([1, 197, 192])\n",
      "torch.Size([1, 197, 192])\n",
      "torch.Size([1, 197, 192])\n",
      "torch.Size([1, 197, 192])\n",
      "torch.Size([1, 197, 192])\n",
      "torch.Size([1, 197, 192])\n",
      "torch.Size([1, 197, 192])\n",
      "torch.Size([1, 197, 192])\n",
      "torch.Size([1, 197, 192])\n",
      "torch.Size([1, 197, 192])\n",
      "torch.Size([1, 197, 192])\n"
     ]
    }
   ],
   "source": [
    "model = deepvision.models.ViTTiny16(include_top=False, \n",
    "                                    input_shape=(3, 224, 224), \n",
    "                                    backend='pytorch', \n",
    "                                    as_backbone=True)\n",
    "\n",
    "outs = model(torch.rand(1, 3, 224, 224))\n",
    "for out in outs:\n",
    "    print(out.shape)"
   ]
  }
 ],
 "metadata": {
  "kernelspec": {
   "display_name": "Python 3 (ipykernel)",
   "language": "python",
   "name": "python3"
  },
  "language_info": {
   "codemirror_mode": {
    "name": "ipython",
    "version": 3
   },
   "file_extension": ".py",
   "mimetype": "text/x-python",
   "name": "python",
   "nbconvert_exporter": "python",
   "pygments_lexer": "ipython3",
   "version": "3.11.0"
  }
 },
 "nbformat": 4,
 "nbformat_minor": 5
}
